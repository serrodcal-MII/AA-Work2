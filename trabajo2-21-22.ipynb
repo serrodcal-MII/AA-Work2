{
 "cells": [
  {
   "cell_type": "markdown",
   "metadata": {},
   "source": [
    "# Trabajo 2 - 2021-2022\n",
    "\n",
    "**Autor**: Sergio Rodríguez Calvo"
   ]
  },
  {
   "cell_type": "markdown",
   "metadata": {},
   "source": [
    "Vamos a realizar las importaciones de librerías al principio, para poder ver de un vistazo qué se ha utilizado."
   ]
  },
  {
   "cell_type": "code",
   "execution_count": 1,
   "metadata": {},
   "outputs": [],
   "source": [
    "import numpy as np\n",
    "import pandas as pd"
   ]
  },
  {
   "cell_type": "markdown",
   "metadata": {},
   "source": [
    "# Descripción\n",
    "\n",
    "El conjunto de datos ejegido es [_hepatitis_](https://archive.ics.uci.edu/ml/datasets/Hepatitis), que consiste en un conjunto multivariante con 19 atributos (categóricos, enteros y reales) y un valor de clasificación binaría: DIE que indica que el paciente muere; LIVE que indica que el paciente sobrevive. Cuenta con un total de 155 instancias o ejemplos."
   ]
  },
  {
   "cell_type": "markdown",
   "metadata": {},
   "source": [
    "A continuación, vamos a definir los nombres de las columnas o los atributos."
   ]
  },
  {
   "cell_type": "code",
   "execution_count": 2,
   "metadata": {},
   "outputs": [],
   "source": [
    "names = [   \n",
    "            'class',\n",
    "            'age',\n",
    "            'sex',\n",
    "            'steroid',\n",
    "            'antivirals',\n",
    "            'fatigue',\n",
    "            'malaise',\n",
    "            'anorexia',\n",
    "            'liver_big',\n",
    "            'liver_firm',\n",
    "            'spleen_palpable',\n",
    "            'spiders',\n",
    "            'ascities',\n",
    "            'varices',\n",
    "            'bilirubin',\n",
    "            'alk_phosphate',\n",
    "            'sgot',\n",
    "            'albumin',\n",
    "            'protime',\n",
    "            'histology'\n",
    "        ]"
   ]
  },
  {
   "cell_type": "markdown",
   "metadata": {},
   "source": [
    "Definimos qué símbolo se usa en el conjunto de datos para expresar que no se conoce el valor, para ser utilizado en la carga de los datos en un _dataframe_ de Pandas."
   ]
  },
  {
   "cell_type": "code",
   "execution_count": 3,
   "metadata": {},
   "outputs": [],
   "source": [
    "missing_values = ['?']"
   ]
  },
  {
   "cell_type": "markdown",
   "metadata": {},
   "source": [
    "Cargamos los datos en el _dataframe_ utilizando la URL, los nombres de los atributos definidos previamente e indicamos los símbolos a utilizar para interpretar que un valor es nulo o no está presente."
   ]
  },
  {
   "cell_type": "code",
   "execution_count": 4,
   "metadata": {},
   "outputs": [],
   "source": [
    "url = 'https://archive.ics.uci.edu/ml/machine-learning-databases/hepatitis/hepatitis.data'\n",
    "df = pd.read_csv(url, names=names, na_values=missing_values)"
   ]
  },
  {
   "cell_type": "markdown",
   "metadata": {},
   "source": [
    "Vamos a mostrar la información general proporcionada por el _dataframe_, donde podemos ver el número de entradas (ejemplos o instancias), los atributos, el tipo de dato de cada atributo y los valores no nulos, aunque luego mostraremos más información respecto de los valores nulos."
   ]
  },
  {
   "cell_type": "code",
   "execution_count": 5,
   "metadata": {},
   "outputs": [
    {
     "name": "stdout",
     "output_type": "stream",
     "text": [
      "<class 'pandas.core.frame.DataFrame'>\n",
      "RangeIndex: 155 entries, 0 to 154\n",
      "Data columns (total 20 columns):\n",
      " #   Column           Non-Null Count  Dtype  \n",
      "---  ------           --------------  -----  \n",
      " 0   class            155 non-null    int64  \n",
      " 1   age              155 non-null    int64  \n",
      " 2   sex              155 non-null    int64  \n",
      " 3   steroid          154 non-null    float64\n",
      " 4   antivirals       155 non-null    int64  \n",
      " 5   fatigue          154 non-null    float64\n",
      " 6   malaise          154 non-null    float64\n",
      " 7   anorexia         154 non-null    float64\n",
      " 8   liver_big        145 non-null    float64\n",
      " 9   liver_firm       144 non-null    float64\n",
      " 10  spleen_palpable  150 non-null    float64\n",
      " 11  spiders          150 non-null    float64\n",
      " 12  ascities         150 non-null    float64\n",
      " 13  varices          150 non-null    float64\n",
      " 14  bilirubin        149 non-null    float64\n",
      " 15  alk_phosphate    126 non-null    float64\n",
      " 16  sgot             151 non-null    float64\n",
      " 17  albumin          139 non-null    float64\n",
      " 18  protime          88 non-null     float64\n",
      " 19  histology        155 non-null    int64  \n",
      "dtypes: float64(15), int64(5)\n",
      "memory usage: 24.3 KB\n"
     ]
    }
   ],
   "source": [
    "df.info()"
   ]
  },
  {
   "cell_type": "markdown",
   "metadata": {},
   "source": [
    "Vamos a mostrar las primeras instancias para ver qué forma tienen."
   ]
  },
  {
   "cell_type": "code",
   "execution_count": 6,
   "metadata": {},
   "outputs": [
    {
     "data": {
      "text/html": [
       "<div>\n",
       "<style scoped>\n",
       "    .dataframe tbody tr th:only-of-type {\n",
       "        vertical-align: middle;\n",
       "    }\n",
       "\n",
       "    .dataframe tbody tr th {\n",
       "        vertical-align: top;\n",
       "    }\n",
       "\n",
       "    .dataframe thead th {\n",
       "        text-align: right;\n",
       "    }\n",
       "</style>\n",
       "<table border=\"1\" class=\"dataframe\">\n",
       "  <thead>\n",
       "    <tr style=\"text-align: right;\">\n",
       "      <th></th>\n",
       "      <th>class</th>\n",
       "      <th>age</th>\n",
       "      <th>sex</th>\n",
       "      <th>steroid</th>\n",
       "      <th>antivirals</th>\n",
       "      <th>fatigue</th>\n",
       "      <th>malaise</th>\n",
       "      <th>anorexia</th>\n",
       "      <th>liver_big</th>\n",
       "      <th>liver_firm</th>\n",
       "      <th>spleen_palpable</th>\n",
       "      <th>spiders</th>\n",
       "      <th>ascities</th>\n",
       "      <th>varices</th>\n",
       "      <th>bilirubin</th>\n",
       "      <th>alk_phosphate</th>\n",
       "      <th>sgot</th>\n",
       "      <th>albumin</th>\n",
       "      <th>protime</th>\n",
       "      <th>histology</th>\n",
       "    </tr>\n",
       "  </thead>\n",
       "  <tbody>\n",
       "    <tr>\n",
       "      <th>0</th>\n",
       "      <td>2</td>\n",
       "      <td>30</td>\n",
       "      <td>2</td>\n",
       "      <td>1.0</td>\n",
       "      <td>2</td>\n",
       "      <td>2.0</td>\n",
       "      <td>2.0</td>\n",
       "      <td>2.0</td>\n",
       "      <td>1.0</td>\n",
       "      <td>2.0</td>\n",
       "      <td>2.0</td>\n",
       "      <td>2.0</td>\n",
       "      <td>2.0</td>\n",
       "      <td>2.0</td>\n",
       "      <td>1.0</td>\n",
       "      <td>85.0</td>\n",
       "      <td>18.0</td>\n",
       "      <td>4.0</td>\n",
       "      <td>NaN</td>\n",
       "      <td>1</td>\n",
       "    </tr>\n",
       "    <tr>\n",
       "      <th>1</th>\n",
       "      <td>2</td>\n",
       "      <td>50</td>\n",
       "      <td>1</td>\n",
       "      <td>1.0</td>\n",
       "      <td>2</td>\n",
       "      <td>1.0</td>\n",
       "      <td>2.0</td>\n",
       "      <td>2.0</td>\n",
       "      <td>1.0</td>\n",
       "      <td>2.0</td>\n",
       "      <td>2.0</td>\n",
       "      <td>2.0</td>\n",
       "      <td>2.0</td>\n",
       "      <td>2.0</td>\n",
       "      <td>0.9</td>\n",
       "      <td>135.0</td>\n",
       "      <td>42.0</td>\n",
       "      <td>3.5</td>\n",
       "      <td>NaN</td>\n",
       "      <td>1</td>\n",
       "    </tr>\n",
       "    <tr>\n",
       "      <th>2</th>\n",
       "      <td>2</td>\n",
       "      <td>78</td>\n",
       "      <td>1</td>\n",
       "      <td>2.0</td>\n",
       "      <td>2</td>\n",
       "      <td>1.0</td>\n",
       "      <td>2.0</td>\n",
       "      <td>2.0</td>\n",
       "      <td>2.0</td>\n",
       "      <td>2.0</td>\n",
       "      <td>2.0</td>\n",
       "      <td>2.0</td>\n",
       "      <td>2.0</td>\n",
       "      <td>2.0</td>\n",
       "      <td>0.7</td>\n",
       "      <td>96.0</td>\n",
       "      <td>32.0</td>\n",
       "      <td>4.0</td>\n",
       "      <td>NaN</td>\n",
       "      <td>1</td>\n",
       "    </tr>\n",
       "    <tr>\n",
       "      <th>3</th>\n",
       "      <td>2</td>\n",
       "      <td>31</td>\n",
       "      <td>1</td>\n",
       "      <td>NaN</td>\n",
       "      <td>1</td>\n",
       "      <td>2.0</td>\n",
       "      <td>2.0</td>\n",
       "      <td>2.0</td>\n",
       "      <td>2.0</td>\n",
       "      <td>2.0</td>\n",
       "      <td>2.0</td>\n",
       "      <td>2.0</td>\n",
       "      <td>2.0</td>\n",
       "      <td>2.0</td>\n",
       "      <td>0.7</td>\n",
       "      <td>46.0</td>\n",
       "      <td>52.0</td>\n",
       "      <td>4.0</td>\n",
       "      <td>80.0</td>\n",
       "      <td>1</td>\n",
       "    </tr>\n",
       "    <tr>\n",
       "      <th>4</th>\n",
       "      <td>2</td>\n",
       "      <td>34</td>\n",
       "      <td>1</td>\n",
       "      <td>2.0</td>\n",
       "      <td>2</td>\n",
       "      <td>2.0</td>\n",
       "      <td>2.0</td>\n",
       "      <td>2.0</td>\n",
       "      <td>2.0</td>\n",
       "      <td>2.0</td>\n",
       "      <td>2.0</td>\n",
       "      <td>2.0</td>\n",
       "      <td>2.0</td>\n",
       "      <td>2.0</td>\n",
       "      <td>1.0</td>\n",
       "      <td>NaN</td>\n",
       "      <td>200.0</td>\n",
       "      <td>4.0</td>\n",
       "      <td>NaN</td>\n",
       "      <td>1</td>\n",
       "    </tr>\n",
       "  </tbody>\n",
       "</table>\n",
       "</div>"
      ],
      "text/plain": [
       "   class  age  sex  steroid  antivirals  fatigue  malaise  anorexia  \\\n",
       "0      2   30    2      1.0           2      2.0      2.0       2.0   \n",
       "1      2   50    1      1.0           2      1.0      2.0       2.0   \n",
       "2      2   78    1      2.0           2      1.0      2.0       2.0   \n",
       "3      2   31    1      NaN           1      2.0      2.0       2.0   \n",
       "4      2   34    1      2.0           2      2.0      2.0       2.0   \n",
       "\n",
       "   liver_big  liver_firm  spleen_palpable  spiders  ascities  varices  \\\n",
       "0        1.0         2.0              2.0      2.0       2.0      2.0   \n",
       "1        1.0         2.0              2.0      2.0       2.0      2.0   \n",
       "2        2.0         2.0              2.0      2.0       2.0      2.0   \n",
       "3        2.0         2.0              2.0      2.0       2.0      2.0   \n",
       "4        2.0         2.0              2.0      2.0       2.0      2.0   \n",
       "\n",
       "   bilirubin  alk_phosphate   sgot  albumin  protime  histology  \n",
       "0        1.0           85.0   18.0      4.0      NaN          1  \n",
       "1        0.9          135.0   42.0      3.5      NaN          1  \n",
       "2        0.7           96.0   32.0      4.0      NaN          1  \n",
       "3        0.7           46.0   52.0      4.0     80.0          1  \n",
       "4        1.0            NaN  200.0      4.0      NaN          1  "
      ]
     },
     "execution_count": 6,
     "metadata": {},
     "output_type": "execute_result"
    }
   ],
   "source": [
    "df.head()"
   ]
  },
  {
   "cell_type": "markdown",
   "metadata": {},
   "source": [
    "Además, vamos a ver la cantidad de valores nulos por atributo."
   ]
  },
  {
   "cell_type": "code",
   "execution_count": 7,
   "metadata": {},
   "outputs": [
    {
     "data": {
      "text/plain": [
       "class               0\n",
       "age                 0\n",
       "sex                 0\n",
       "steroid             1\n",
       "antivirals          0\n",
       "fatigue             1\n",
       "malaise             1\n",
       "anorexia            1\n",
       "liver_big          10\n",
       "liver_firm         11\n",
       "spleen_palpable     5\n",
       "spiders             5\n",
       "ascities            5\n",
       "varices             5\n",
       "bilirubin           6\n",
       "alk_phosphate      29\n",
       "sgot                4\n",
       "albumin            16\n",
       "protime            67\n",
       "histology           0\n",
       "dtype: int64"
      ]
     },
     "execution_count": 7,
     "metadata": {},
     "output_type": "execute_result"
    }
   ],
   "source": [
    "df.isnull().sum()"
   ]
  },
  {
   "cell_type": "markdown",
   "metadata": {},
   "source": [
    "A continuación, vamos a transformar el _dataframe_ en un array de Numpy, para posteriormente poder separar los atributos de los valores de clasificación en dos arrays separados, y vamos a mostrar la cantidad de instancias para cada clasificación."
   ]
  },
  {
   "cell_type": "code",
   "execution_count": 8,
   "metadata": {},
   "outputs": [
    {
     "data": {
      "text/plain": [
       "(array([1., 2.]), array([ 32, 123]))"
      ]
     },
     "execution_count": 8,
     "metadata": {},
     "output_type": "execute_result"
    }
   ],
   "source": [
    "X = df.to_numpy()\n",
    "np.unique(X[:,0],return_counts=True)"
   ]
  },
  {
   "cell_type": "markdown",
   "metadata": {},
   "source": [
    "Vemos que no estamos ante un conjunto de datos balanceado, por lo que tenemos que tener cuidado con esto a la hora de realizar los experimentos."
   ]
  },
  {
   "cell_type": "markdown",
   "metadata": {},
   "source": [
    "Vamos a ver la forma del array de Numpy, así como, separar los datos en dos arrays:\n",
    "* `X_data`: los atributos y sus instancias.\n",
    "* `y_data`: la clasificación de cada instancia. "
   ]
  },
  {
   "cell_type": "code",
   "execution_count": 9,
   "metadata": {},
   "outputs": [
    {
     "data": {
      "text/plain": [
       "(155, 20)"
      ]
     },
     "execution_count": 9,
     "metadata": {},
     "output_type": "execute_result"
    }
   ],
   "source": [
    "X.shape"
   ]
  },
  {
   "cell_type": "code",
   "execution_count": 10,
   "metadata": {},
   "outputs": [
    {
     "name": "stdout",
     "output_type": "stream",
     "text": [
      "X_data.shape: (155,)\n",
      "y_data.shape (155, 19)\n"
     ]
    }
   ],
   "source": [
    "X_data,y_data = X[:,0],X[:,1:]\n",
    "\n",
    "print('X_data.shape:',X_data.shape)\n",
    "print('y_data.shape',y_data.shape)"
   ]
  },
  {
   "cell_type": "markdown",
   "metadata": {},
   "source": [
    "## Procesado de los datos"
   ]
  },
  {
   "cell_type": "markdown",
   "metadata": {},
   "source": [
    "En esta sección vamos a realizar el procesado de los datos que consiste en, por un lado, manipular las características o atributos para tratar los datos nulos, así como, tratar temas como los datos categóricos o el escalado de los valores numéricos, lo que mejorará el proceso de aprendizaje y clasificación de los modelos. Por otro lado, vamos a ver si podemos reducir la dimensionalidad considerando sólo aquellos atributos que permitan clasificar, lo que mejorará el rendimiento de los modelos.\n"
   ]
  }
 ],
 "metadata": {
  "interpreter": {
   "hash": "aee8b7b246df8f9039afb4144a1f6fd8d2ca17a180786b69acc140d282b71a49"
  },
  "kernelspec": {
   "display_name": "Python 3.9.9 64-bit",
   "language": "python",
   "name": "python3"
  },
  "language_info": {
   "codemirror_mode": {
    "name": "ipython",
    "version": 3
   },
   "file_extension": ".py",
   "mimetype": "text/x-python",
   "name": "python",
   "nbconvert_exporter": "python",
   "pygments_lexer": "ipython3",
   "version": "3.9.9"
  },
  "orig_nbformat": 4
 },
 "nbformat": 4,
 "nbformat_minor": 2
}
